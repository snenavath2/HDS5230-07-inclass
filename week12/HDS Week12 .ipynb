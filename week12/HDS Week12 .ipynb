{
  "nbformat": 4,
  "nbformat_minor": 0,
  "metadata": {
    "colab": {
      "provenance": []
    },
    "kernelspec": {
      "name": "python3",
      "display_name": "Python 3"
    },
    "language_info": {
      "name": "python"
    }
  },
  "cells": [
    {
      "cell_type": "code",
      "source": [
        "import pandas as pd\n",
        "import numpy as np\n",
        "import tensorflow as tf\n",
        "from sklearn.model_selection import train_test_split\n",
        "from sklearn.preprocessing import StandardScaler\n",
        "import time\n",
        "\n",
        "# Load data\n",
        "df = pd.read_csv(\"pima_11.csv\")\n",
        "\n",
        "# Features and target\n",
        "X = df.drop(\"outcome\", axis=1).values\n",
        "y = df[\"outcome\"].values\n",
        "\n",
        "# Normalize features\n",
        "scaler = StandardScaler()\n",
        "X = scaler.fit_transform(X)\n",
        "\n",
        "# Function to expand dataset to desired size\n",
        "def expand_data(X, y, size):\n",
        "    repeats = size // len(X) + 1\n",
        "    X_exp = np.tile(X, (repeats, 1))[:size]\n",
        "    y_exp = np.tile(y, repeats)[:size]\n",
        "    return X_exp, y_exp\n",
        "\n",
        "# Function to build and train model\n",
        "def train_model(X, y, hidden_layers=(4,), epochs=10, batch_size=32):\n",
        "    X_train, X_val, y_train, y_val = train_test_split(X, y, test_size=0.2, random_state=42)\n",
        "\n",
        "    model = tf.keras.Sequential()\n",
        "    model.add(tf.keras.Input(shape=(X.shape[1],)))\n",
        "    for units in hidden_layers:\n",
        "        model.add(tf.keras.layers.Dense(units, activation='relu'))\n",
        "    model.add(tf.keras.layers.Dense(1, activation='sigmoid'))\n",
        "\n",
        "    model.compile(optimizer='adam', loss='binary_crossentropy', metrics=['accuracy'])\n",
        "\n",
        "    start = time.time()\n",
        "    history = model.fit(X_train, y_train, validation_data=(X_val, y_val),\n",
        "                        epochs=epochs, batch_size=batch_size, verbose=0)\n",
        "    end = time.time()\n",
        "\n",
        "    train_loss = history.history['loss'][-1]\n",
        "    val_loss = history.history['val_loss'][-1]\n",
        "    exec_time = end - start\n",
        "\n",
        "    return train_loss, val_loss, exec_time\n",
        "\n",
        "# Configurations\n",
        "sizes = [1000, 10000, 100000]\n",
        "configs = [(4,), (4, 4)]\n",
        "\n",
        "# Run all configurations\n",
        "results = []\n",
        "for size in sizes:\n",
        "    X_exp, y_exp = expand_data(X, y, size)\n",
        "    for hidden in configs:\n",
        "        train_loss, val_loss, exec_time = train_model(X_exp, y_exp, hidden_layers=hidden)\n",
        "        results.append((size, hidden, train_loss, val_loss, exec_time))\n",
        "\n",
        "# Display results\n",
        "import pandas as pd\n",
        "result_df = pd.DataFrame(results, columns=[\"Data Size\", \"Hidden Layers\", \"Train Error\", \"Validation Error\", \"Execution Time (s)\"])"
      ],
      "metadata": {
        "colab": {
          "base_uri": "https://localhost:8080/",
          "height": 364
        },
        "collapsed": true,
        "id": "oIs364VK2sz4",
        "outputId": "d7a581ff-c34e-42b6-b3b8-2b562c4cd672"
      },
      "execution_count": 3,
      "outputs": [
        {
          "output_type": "error",
          "ename": "ModuleNotFoundError",
          "evalue": "No module named 'ace_tools'",
          "traceback": [
            "\u001b[0;31m---------------------------------------------------------------------------\u001b[0m",
            "\u001b[0;31mModuleNotFoundError\u001b[0m                       Traceback (most recent call last)",
            "\u001b[0;32m<ipython-input-3-47082b79ad34>\u001b[0m in \u001b[0;36m<cell line: 0>\u001b[0;34m()\u001b[0m\n\u001b[1;32m     62\u001b[0m \u001b[0;32mimport\u001b[0m \u001b[0mpandas\u001b[0m \u001b[0;32mas\u001b[0m \u001b[0mpd\u001b[0m\u001b[0;34m\u001b[0m\u001b[0;34m\u001b[0m\u001b[0m\n\u001b[1;32m     63\u001b[0m \u001b[0mresult_df\u001b[0m \u001b[0;34m=\u001b[0m \u001b[0mpd\u001b[0m\u001b[0;34m.\u001b[0m\u001b[0mDataFrame\u001b[0m\u001b[0;34m(\u001b[0m\u001b[0mresults\u001b[0m\u001b[0;34m,\u001b[0m \u001b[0mcolumns\u001b[0m\u001b[0;34m=\u001b[0m\u001b[0;34m[\u001b[0m\u001b[0;34m\"Data Size\"\u001b[0m\u001b[0;34m,\u001b[0m \u001b[0;34m\"Hidden Layers\"\u001b[0m\u001b[0;34m,\u001b[0m \u001b[0;34m\"Train Error\"\u001b[0m\u001b[0;34m,\u001b[0m \u001b[0;34m\"Validation Error\"\u001b[0m\u001b[0;34m,\u001b[0m \u001b[0;34m\"Execution Time (s)\"\u001b[0m\u001b[0;34m]\u001b[0m\u001b[0;34m)\u001b[0m\u001b[0;34m\u001b[0m\u001b[0;34m\u001b[0m\u001b[0m\n\u001b[0;32m---> 64\u001b[0;31m \u001b[0;32mimport\u001b[0m \u001b[0mace_tools\u001b[0m \u001b[0;32mas\u001b[0m \u001b[0mtools\u001b[0m\u001b[0;34m;\u001b[0m \u001b[0mtools\u001b[0m\u001b[0;34m.\u001b[0m\u001b[0mdisplay_dataframe_to_user\u001b[0m\u001b[0;34m(\u001b[0m\u001b[0mname\u001b[0m\u001b[0;34m=\u001b[0m\u001b[0;34m\"Model Performance Results\"\u001b[0m\u001b[0;34m,\u001b[0m \u001b[0mdataframe\u001b[0m\u001b[0;34m=\u001b[0m\u001b[0mresult_df\u001b[0m\u001b[0;34m)\u001b[0m\u001b[0;34m\u001b[0m\u001b[0;34m\u001b[0m\u001b[0m\n\u001b[0m",
            "\u001b[0;31mModuleNotFoundError\u001b[0m: No module named 'ace_tools'",
            "",
            "\u001b[0;31m---------------------------------------------------------------------------\u001b[0;32m\nNOTE: If your import is failing due to a missing package, you can\nmanually install dependencies using either !pip or !apt.\n\nTo view examples of installing some common dependencies, click the\n\"Open Examples\" button below.\n\u001b[0;31m---------------------------------------------------------------------------\u001b[0m\n"
          ],
          "errorDetails": {
            "actions": [
              {
                "action": "open_url",
                "actionText": "Open Examples",
                "url": "/notebooks/snippets/importing_libraries.ipynb"
              }
            ]
          }
        }
      ]
    },
    {
      "cell_type": "code",
      "source": [
        "print(result_df)"
      ],
      "metadata": {
        "colab": {
          "base_uri": "https://localhost:8080/"
        },
        "id": "Ts0KdBBx3gWv",
        "outputId": "7ba727d8-9538-4d24-98b4-f12fd8212560"
      },
      "execution_count": 5,
      "outputs": [
        {
          "output_type": "stream",
          "name": "stdout",
          "text": [
            "   Data Size Hidden Layers  Train Error  Validation Error  Execution Time (s)\n",
            "0       1000          (4,)     0.447662          0.386414            3.975968\n",
            "1       1000        (4, 4)     0.439978          0.421220            2.765510\n",
            "2      10000          (4,)     0.067075          0.066131            9.446270\n",
            "3      10000        (4, 4)     0.031297          0.028314            8.492913\n",
            "4     100000          (4,)     0.010647          0.009515           74.007096\n",
            "5     100000        (4, 4)     0.005884          0.004808           71.358379\n"
          ]
        }
      ]
    }
  ]
}