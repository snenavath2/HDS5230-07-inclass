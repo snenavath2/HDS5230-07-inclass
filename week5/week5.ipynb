{
 "cells": [
  {
   "cell_type": "raw",
   "id": "b3541534-0220-4836-9572-664d1891606a",
   "metadata": {},
   "source": [
    "Sanjay\n",
    "Week 5 Assignment - Dask Programming\n",
    "High Performance Computing - HDS 5230"
   ]
  },
  {
   "cell_type": "code",
   "execution_count": 6,
   "id": "2339f189-6efa-46bc-b0b3-8e350d6eacdb",
   "metadata": {},
   "outputs": [],
   "source": [
    "import dask.dataframe as dd\n",
    "import pandas as pd"
   ]
  },
  {
   "cell_type": "code",
   "execution_count": 7,
   "id": "6f29100f-899c-49dc-9152-ab0d3df9262a",
   "metadata": {},
   "outputs": [
    {
     "name": "stdout",
     "output_type": "stream",
     "text": [
      "Per-Capita Mortality Ranking:\n",
      "state\n",
      "New Jersey                      0.096971\n",
      "Connecticut                     0.077912\n",
      "Massachusetts                   0.070073\n",
      "New York                        0.069850\n",
      "Louisiana                       0.045904\n",
      "Washington, D.C.                0.045661\n",
      "Rhode Island                    0.043833\n",
      "Michigan                        0.042039\n",
      "Illinois                        0.030218\n",
      "Pennsylvania                    0.029602\n",
      "Maryland                        0.029020\n",
      "Delaware                        0.026575\n",
      "Mississippi                     0.017606\n",
      "Colorado                        0.016981\n",
      "Indiana                         0.016166\n",
      "Georgia                         0.014636\n",
      "Ohio                            0.013175\n",
      "New Hampshire                   0.012777\n",
      "Minnesota                       0.012669\n",
      "Washington                      0.012169\n",
      "New Mexico                      0.011746\n",
      "Iowa                            0.011377\n",
      "Virginia                        0.010966\n",
      "Nevada                          0.010136\n",
      "Alabama                         0.009540\n",
      "Missouri                        0.008771\n",
      "Florida                         0.008726\n",
      "California                      0.008002\n",
      "Wisconsin                       0.007628\n",
      "Kentucky                        0.007381\n",
      "Vermont                         0.007287\n",
      "South Carolina                  0.007267\n",
      "Nebraska                        0.006558\n",
      "Oklahoma                        0.006440\n",
      "North Carolina                  0.006305\n",
      "Kansas                          0.005613\n",
      "North Dakota                    0.005534\n",
      "Maine                           0.004891\n",
      "South Dakota                    0.004750\n",
      "Arizona                         0.004736\n",
      "Tennessee                       0.004421\n",
      "Texas                           0.004326\n",
      "Arkansas                        0.003796\n",
      "Idaho                           0.003580\n",
      "West Virginia                   0.003052\n",
      "Oregon                          0.002981\n",
      "Utah                            0.002555\n",
      "United States Virgin Islands    0.002364\n",
      "Northern Mariana Islands        0.001922\n",
      "Wyoming                         0.001783\n",
      "Puerto Rico                     0.001670\n",
      "Guam                            0.001585\n",
      "Montana                         0.001308\n",
      "Alaska                          0.001126\n",
      "Hawaii                          0.000376\n",
      "American Samoa                  0.000000\n",
      "dtype: float64\n"
     ]
    }
   ],
   "source": [
    "data_frame = dd.read_csv('timeseries.csv', dtype={'cases': 'float64', 'deaths': 'float64', 'population': 'float64'})\n",
    "us_data = data_frame[(data_frame['country'] == 'United States') & (data_frame['level'] == 'state')]\n",
    "us_data['date'] = dd.to_datetime(us_data['date'])\n",
    "\n",
    "filtered_data = us_data[(us_data['date'] >= '2020-01-01') & (us_data['date'] <= '2021-02-28')]\n",
    "\n",
    "\n",
    "deaths_per_state = filtered_data.groupby('state')['deaths'].sum()\n",
    "avg_population_per_state = filtered_data.groupby('state')['population'].mean()\n",
    "\n",
    "per_capita_mortality = (deaths_per_state / avg_population_per_state).compute()\n",
    "per_capita_mortality = per_capita_mortality.sort_values(ascending=False)\n",
    "print(\"Per-Capita Mortality Ranking:\")\n",
    "print(per_capita_mortality)"
   ]
  },
  {
   "cell_type": "raw",
   "id": "b2c19d20-5ebf-45ac-83ba-6dd021b19c5a",
   "metadata": {},
   "source": [
    "The dataset loading process with Dask provides vital advantages through distributed and parallel processing optimization of large CSV datasets. The design of Dask differs from Pandas because it divides data into chunks for lazy processing while Pandas requires full memory load of the dataset.\n",
    "\n",
    "The size of datasets makes the selection of relevant rows through full dataset scans a task that should be performed using parallel processing. Dask implements chunk-wise filtering across multiple partitions to obtain faster performance than Pandas which needs to perform complete dataset scanning in a single-threaded manner.\n",
    "\n",
    "Processing of dates into time-based data structures requires significant processing power from the central processing unit even when working with large datasets. Through multiple partition processing Dask applies the transformation in parallel fashion thus delivering faster results than executing it sequentially.\n",
    "\n",
    "An additional filtering process gains efficiency through parallel execution technique. The distributed time-based filter implementation maintains good performance across large datasets because it operates over multiple partitioned workers.\n",
    "\n",
    "Aggregation functions sum() and mean() function optimally in parallel computing because they enable independent partition calculations that merge resulting data. Dask handles computations through a distributed method which executes efficiently across one or multiple CPU cores or physical machines.\n",
    "\n",
    "An operation for dividing two aggregated values becomes efficient when deaths and average population are computed in parallel. The .compute() function begins distributed execution of the dataset processing to maintain efficient performance without needing substantial memory resources."
   ]
  },
  {
   "cell_type": "code",
   "execution_count": 8,
   "id": "b236c5aa-9102-458a-bfd6-aa44fe6d50ee",
   "metadata": {},
   "outputs": [
    {
     "name": "stdout",
     "output_type": "stream",
     "text": [
      "Case Fatality Rate per Month:\n",
      "state    year_month\n",
      "Alabama  2020-03       0.005324\n",
      "         2020-04       0.029829\n",
      "         2020-05       0.038967\n",
      "         2020-06       0.029617\n",
      "         2020-07       0.023956\n",
      "                         ...   \n",
      "Wyoming  2020-03       0.000000\n",
      "         2020-04       0.008708\n",
      "         2020-05       0.013089\n",
      "         2020-06       0.016462\n",
      "         2020-07       0.012681\n",
      "Length: 290, dtype: float64\n"
     ]
    }
   ],
   "source": [
    "# Compute CFR per month\n",
    "filtered_data['year_month'] = filtered_data['date'].dt.to_period('M')\n",
    "cases_per_month = filtered_data.groupby(['state', 'year_month'])['cases'].sum()\n",
    "deaths_per_month = filtered_data.groupby(['state', 'year_month'])['deaths'].sum()\n",
    "\n",
    "cfr_per_month = (deaths_per_month / cases_per_month).compute()\n",
    "cfr_per_month = cfr_per_month.fillna(0)\n",
    "print(\"Case Fatality Rate per Month:\")\n",
    "print(cfr_per_month)"
   ]
  },
  {
   "cell_type": "raw",
   "id": "77f10a6c-e769-49df-ae8a-a7e77e868c50",
   "metadata": {},
   "source": [
    "The data is grouped for states and months to perform summations for cases and deaths before calculating the CFR values. The grouping operations perform slowly so Dask parallel processing generates separate execution of each group across partition boundaries to enhance performance."
   ]
  },
  {
   "cell_type": "code",
   "execution_count": 9,
   "id": "047be786-bc58-408e-96e3-e5210f345251",
   "metadata": {},
   "outputs": [
    {
     "name": "stdout",
     "output_type": "stream",
     "text": [
      "CFR Change Ranking:\n",
      "state\n",
      "New Jersey                      0.083710\n",
      "Connecticut                     0.074609\n",
      "Massachusetts                   0.074312\n",
      "Pennsylvania                    0.064987\n",
      "New Hampshire                   0.061563\n",
      "Michigan                        0.061151\n",
      "New York                        0.058222\n",
      "Rhode Island                    0.055043\n",
      "Illinois                        0.048020\n",
      "Maryland                        0.044210\n",
      "Minnesota                       0.039993\n",
      "Washington                      0.039423\n",
      "Washington, D.C.                0.038932\n",
      "Ohio                            0.037463\n",
      "New Mexico                      0.033150\n",
      "Missouri                        0.033118\n",
      "Colorado                        0.032330\n",
      "West Virginia                   0.030102\n",
      "Delaware                        0.029754\n",
      "Indiana                         0.029178\n",
      "Maine                           0.026348\n",
      "California                      0.025430\n",
      "Wisconsin                       0.023905\n",
      "Mississippi                     0.022253\n",
      "Oregon                          0.022106\n",
      "North Dakota                    0.020217\n",
      "Montana                         0.020157\n",
      "Arizona                         0.019471\n",
      "Alabama                         0.018633\n",
      "North Carolina                  0.016560\n",
      "Iowa                            0.014925\n",
      "Kentucky                        0.014807\n",
      "Nebraska                        0.014434\n",
      "Virginia                        0.014326\n",
      "Alaska                          0.014205\n",
      "Texas                           0.014024\n",
      "Louisiana                       0.012882\n",
      "Wyoming                         0.012681\n",
      "Tennessee                       0.012630\n",
      "Florida                         0.011853\n",
      "Vermont                         0.011262\n",
      "Georgia                         0.010258\n",
      "South Dakota                    0.008177\n",
      "Kansas                          0.007778\n",
      "United States Virgin Islands    0.007522\n",
      "Utah                            0.007499\n",
      "Nevada                          0.004842\n",
      "Arkansas                        0.003315\n",
      "American Samoa                  0.000000\n",
      "South Carolina                 -0.000471\n",
      "Idaho                          -0.000679\n",
      "Hawaii                         -0.000726\n",
      "Oklahoma                       -0.002076\n",
      "Guam                           -0.009284\n",
      "Puerto Rico                    -0.038106\n",
      "Northern Mariana Islands       -0.079321\n",
      "dtype: float64\n"
     ]
    }
   ],
   "source": [
    "# Compute month-to-month changes in CFR\n",
    "cfr_changes = cfr_per_month.groupby('state').diff().fillna(0)\n",
    "\n",
    "# Aggregate month-to-month changes per state\n",
    "cfr_trend = cfr_changes.groupby('state').sum().sort_values(ascending=False)\n",
    "print(\"CFR Change Ranking:\")\n",
    "print(cfr_trend)"
   ]
  },
  {
   "cell_type": "raw",
   "id": "e986b6ec-1807-41a6-b3c5-2d57d6157cbd",
   "metadata": {},
   "source": [
    "The diff() function performs parallel computations by obtaining the monthly change differences across different states. The individual nature of state-specific CFR trends allows parallel processing to achieve major speed improvements during this operation."
   ]
  }
 ],
 "metadata": {
  "kernelspec": {
   "display_name": "Python 3 (ipykernel)",
   "language": "python",
   "name": "python3"
  },
  "language_info": {
   "codemirror_mode": {
    "name": "ipython",
    "version": 3
   },
   "file_extension": ".py",
   "mimetype": "text/x-python",
   "name": "python",
   "nbconvert_exporter": "python",
   "pygments_lexer": "ipython3",
   "version": "3.12.3"
  }
 },
 "nbformat": 4,
 "nbformat_minor": 5
}
